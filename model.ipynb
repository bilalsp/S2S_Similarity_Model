{
 "cells": [
  {
   "cell_type": "markdown",
   "metadata": {},
   "source": [
    "# <HR> SENTENCE TO SENTENCE SEMANTIC SIMILARITY <HR>\n",
    "    Abstract: There are many methods available to compare words based on the context and the meaning, which convert the word into a representation in an n-dimensional vector space which is referred to as word embedding. Some of the methods are word2vec invented by Tomas Mikolov at Google, Glove from Stanford, and fastTest from Facebook. But, extending the notion of word similarity to complete sentence semantic similarity is one of the toughest problems in the Natural Language Processing(NLP). In this project, we build the system to compute the semantic similarity between two english sentences/questions using the Support Vector Machine(SVM). We consider the multiple similarities like literal similarity, shallow syntactic similarity, and latent semantic similarity as explanatory variables to predict the semantic similarity between two sentences. Our system predicts whether two sentences are duplicate or not based on the intent of the sentences.\n"
   ]
  },
  {
   "cell_type": "markdown",
   "metadata": {},
   "source": [
    "### Load the Raipids cuML"
   ]
  },
  {
   "cell_type": "code",
   "execution_count": 2,
   "metadata": {},
   "outputs": [],
   "source": [
    "import sys\n",
    "!cp ../input/rapids/rapids.0.13.0 /opt/conda/envs/rapids.tar.gz\n",
    "!cd /opt/conda/envs/ && tar -xzvf rapids.tar.gz > /dev/null\n",
    "sys.path = [\"/opt/conda/envs/rapids/lib/python3.6/site-packages\"] + sys.path\n",
    "sys.path = [\"/opt/conda/envs/rapids/lib/python3.6\"] + sys.path\n",
    "sys.path = [\"/opt/conda/envs/rapids/lib\"] + sys.path\n",
    "!cp /opt/conda/envs/rapids/lib/libxgboost.so /opt/conda/lib/"
   ]
  },
  {
   "cell_type": "markdown",
   "metadata": {},
   "source": [
    "### Import all required packages"
   ]
  },
  {
   "cell_type": "code",
   "execution_count": 3,
   "metadata": {},
   "outputs": [],
   "source": [
    "import cudf, cuml\n",
    "from cuml.svm import SVC\n",
    "\n",
    "import matplotlib.pyplot as plt\n",
    "import pandas as pd, numpy as np\n",
    "from sklearn.model_selection import train_test_split, KFold\n",
    "from sklearn.metrics import confusion_matrix\n",
    "\n",
    "import Levenshtein\n",
    "from sklearn import metrics\n",
    "from gensim.models import KeyedVectors\n",
    "from sklearn.feature_extraction.text import TfidfVectorizer\n",
    "import spacy\n",
    "import nltk\n",
    "import matplotlib.pyplot as plt\n",
    "from sklearn.metrics import roc_curve, auc\n",
    "from sklearn.metrics import roc_auc_score\n",
    "from gensim.models import LsiModel\n",
    "import pickle\n",
    "import os.path\n",
    "from gensim import corpora\n",
    "from gensim.models import LsiModel\n",
    "from nltk.tokenize import RegexpTokenizer\n",
    "from nltk.corpus import stopwords\n",
    "from nltk.stem.porter import PorterStemmer\n",
    "import matplotlib.pyplot as plt\n",
    "import seaborn as sn\n",
    "import matplotlib.pyplot as plt\n",
    "import warnings"
   ]
  },
  {
   "cell_type": "code",
   "execution_count": 4,
   "metadata": {},
   "outputs": [],
   "source": [
    "warnings.filterwarnings('ignore') "
   ]
  },
  {
   "cell_type": "code",
   "execution_count": 5,
   "metadata": {},
   "outputs": [],
   "source": [
    "DATA_PATH = '/kaggle/input/'"
   ]
  },
  {
   "cell_type": "markdown",
   "metadata": {},
   "source": [
    "### Load the Quora Question Pair dataset"
   ]
  },
  {
   "cell_type": "code",
   "execution_count": 6,
   "metadata": {},
   "outputs": [],
   "source": [
    "data = pd.read_csv(DATA_PATH+'quora-question-pairs/train.csv.zip', index_col=['id'])\n",
    "data = data.dropna()"
   ]
  },
  {
   "cell_type": "markdown",
   "metadata": {},
   "source": [
    "### Train the TfidfVectorizer model"
   ]
  },
  {
   "cell_type": "code",
   "execution_count": 7,
   "metadata": {},
   "outputs": [],
   "source": [
    "text_data = data.question1.append(data.question1)\n",
    "model_Tfidf = TfidfVectorizer(lowercase=False).fit(text_data)\n",
    "model_Tfidf = dict(zip(model_Tfidf.get_feature_names(), model_Tfidf.idf_))"
   ]
  },
  {
   "cell_type": "markdown",
   "metadata": {},
   "source": [
    "### Load the pre-trained model Word2Vec"
   ]
  },
  {
   "cell_type": "code",
   "execution_count": 8,
   "metadata": {},
   "outputs": [],
   "source": [
    "path = DATA_PATH+'googles-trained-word2vec-model-in-python/GoogleNews-vectors-negative300.bin'\n",
    "model_Word2Vec = KeyedVectors.load_word2vec_format(path, binary=True)  "
   ]
  },
  {
   "cell_type": "markdown",
   "metadata": {},
   "source": [
    "### Methods to generate the features"
   ]
  },
  {
   "cell_type": "code",
   "execution_count": 9,
   "metadata": {},
   "outputs": [],
   "source": [
    "def question2vec(question, preprocessor=None):\n",
    "    question = question.split()\n",
    "    sum_vec = np.array([model_Word2Vec[word] for word in question if word in model_Word2Vec and word in model_Tfidf])\n",
    "\n",
    "    weights = np.array([(model_Tfidf[word]*question.count(word))/len(question) \n",
    "                        for word in question if word in model_Word2Vec and word in model_Tfidf])\n",
    "    \n",
    "    return np.average(sum_vec, axis=0, weights=weights) if sum(weights) else np.average(sum_vec, axis=0)"
   ]
  },
  {
   "cell_type": "code",
   "execution_count": 10,
   "metadata": {},
   "outputs": [],
   "source": [
    "def preprocess(sentence):   \n",
    "    pos_tag1 = nltk.pos_tag(nltk.word_tokenize(sentence), tagset='universal')\n",
    "    pos_tag1 = set(map(lambda x: x[1], pos_tag1))\n",
    "    return pos_tag1"
   ]
  },
  {
   "cell_type": "code",
   "execution_count": 11,
   "metadata": {},
   "outputs": [],
   "source": [
    "def get_Levenshtein_distance(row):\n",
    "    return Levenshtein.distance(row['question1'], row['question2'])\n",
    "\n",
    "def cosine_similarity(row):\n",
    "    vec1 = question2vec(row['question1'])\n",
    "    vec2 = question2vec(row['question2'])\n",
    "    if isinstance(vec1,np.float64) or isinstance(vec2,np.float64):\n",
    "        return 0\n",
    "    return np.dot(vec1, vec2)/(np.linalg.norm(vec1)* np.linalg.norm(vec2))\n",
    "\n",
    "def jaccard_similarity(row, preprocessor=None):\n",
    "    tokens1 = preprocessor(row['question1'])\n",
    "    tokens2 = preprocessor(row['question2'])\n",
    "    set1 = set(tokens1)\n",
    "    set2 = set(tokens2)\n",
    "    intersection = set1.intersection(set2)\n",
    "    union = set1.union(set2)\n",
    "    return len(intersection) / len(union)\n",
    "\n",
    "def normalized_word_share(row):\n",
    "    w1 = set(map(lambda word: word.lower().strip(),row['question1'].split(\" \")))\n",
    "    w2 = set(map(lambda word: word.lower().strip(),row['question2'].split(\" \")))    \n",
    "    return 1.0 * len(w1&w2)/(len(w1)+len(w2))"
   ]
  },
  {
   "cell_type": "markdown",
   "metadata": {},
   "source": [
    "### Generate different similarities features"
   ]
  },
  {
   "cell_type": "code",
   "execution_count": 12,
   "metadata": {
    "_cell_guid": "79c7e3d0-c299-4dcb-8224-4455121ee9b0",
    "_uuid": "d629ff2d2480ee46fbb7e2d37f6b5fab8052498a"
   },
   "outputs": [],
   "source": [
    "data['jaccard_similarity'] = data.apply(jaccard_similarity, preprocessor=preprocess, axis=1)\n",
    "data['word_share'] = data.apply(normalized_word_share, axis=1)\n",
    "data['levenshtein_dst'] = data.apply(get_Levenshtein_distance, axis=1)\n",
    "data['cosine_similarity'] = data.apply(cosine_similarity, axis=1)"
   ]
  },
  {
   "cell_type": "code",
   "execution_count": 13,
   "metadata": {},
   "outputs": [],
   "source": [
    "data.to_csv('features.csv')"
   ]
  },
  {
   "cell_type": "markdown",
   "metadata": {},
   "source": [
    "### Split the data into train set and test set"
   ]
  },
  {
   "cell_type": "code",
   "execution_count": 14,
   "metadata": {},
   "outputs": [],
   "source": [
    "data = pd.read_csv(DATA_PATH+'similarities-features/features.csv')\n",
    "X = data[['levenshtein_dst', 'cosine_similarity', 'jaccard_similarity', 'word_share']].to_numpy()\n",
    "y = data['is_duplicate'].to_numpy()\n",
    "X_train, X_test, y_train, y_test = train_test_split(X, y, test_size=0.10, random_state=2020)"
   ]
  },
  {
   "cell_type": "markdown",
   "metadata": {},
   "source": [
    "### Train SVM model"
   ]
  },
  {
   "cell_type": "code",
   "execution_count": 15,
   "metadata": {},
   "outputs": [
    {
     "data": {
      "text/plain": [
       "SVC(handle=<cuml.common.handle.Handle object at 0x7f691eb37d90>, C=10, kernel='rbf', degree=3, gamma=1, coef0=0.0, tol=0.001, cache_size=8000, max_iter=-1, nochange_steps=1000, verbose=False)"
      ]
     },
     "execution_count": 15,
     "metadata": {},
     "output_type": "execute_result"
    }
   ],
   "source": [
    "model = SVC(kernel='rbf', C=10, gamma=1, cache_size=8000)\n",
    "model.fit(X_train, y_train)"
   ]
  },
  {
   "cell_type": "markdown",
   "metadata": {},
   "source": [
    "### Predict the Duplicate Question-Pair"
   ]
  },
  {
   "cell_type": "code",
   "execution_count": 16,
   "metadata": {},
   "outputs": [],
   "source": [
    "y_pred = model.predict(X_test).to_array()"
   ]
  },
  {
   "cell_type": "markdown",
   "metadata": {},
   "source": [
    "### Confusion Matrix of test set"
   ]
  },
  {
   "cell_type": "code",
   "execution_count": 17,
   "metadata": {},
   "outputs": [
    {
     "data": {
      "image/png": "[encoded data removed]",
      "text/plain": [
       "<Figure size 432x288 with 2 Axes>"
      ]
     },
     "metadata": {},
     "output_type": "display_data"
    }
   ],
   "source": [
    "np.set_printoptions(precision=2)\n",
    "cm = confusion_matrix(y_test, y_pred, labels=[1,0])\n",
    "df_cm = pd.DataFrame(cm, index = ['True', 'False'], columns = ['True', 'False'])\n",
    "sn.set(font_scale=1.0) # for label size\n",
    "sn.heatmap(df_cm, annot=True, annot_kws={\"size\": 12}, cmap='Blues', fmt='d') # font size\n",
    "plt.title('Confusion Matrix -- Accuracy: {}%'.format(metrics.accuracy_score(y_test, y_pred).round(4)*100))\n",
    "plt.show()"
   ]
  },
  {
   "cell_type": "markdown",
   "metadata": {},
   "source": [
    "### ROC-AUC Curve"
   ]
  },
  {
   "cell_type": "code",
   "execution_count": 18,
   "metadata": {},
   "outputs": [
    {
     "data": {
      "image/png": "[encoded data removed]",
      "text/plain": [
       "<Figure size 432x288 with 1 Axes>"
      ]
     },
     "metadata": {},
     "output_type": "display_data"
    }
   ],
   "source": [
    "y_score = model.decision_function(X_test).to_array()\n",
    "\n",
    "fpr, tpr, thresholds = roc_curve(y_test, y_score, pos_label = 1)\n",
    "\n",
    "# AUC score that summarizes the ROC curve\n",
    "roc_auc = auc(fpr, tpr)\n",
    "\n",
    "plt.plot(fpr, tpr, lw = 2, label = 'ROC AUC: {:.2f}'.format(roc_auc))\n",
    "plt.plot([0, 1], [0, 1],\n",
    "         linestyle = '--',\n",
    "         color = (0.6, 0.6, 0.6),\n",
    "         label = 'random guessing')\n",
    "plt.plot([0, 0, 1], [0, 1, 1],\n",
    "         linestyle = ':',\n",
    "         color = 'black', \n",
    "         label = 'perfect performance')\n",
    "\n",
    "plt.xlim([-0.05, 1.05])\n",
    "plt.ylim([-0.05, 1.05])\n",
    "plt.xlabel('false positive rate')\n",
    "plt.ylabel('true positive rate')\n",
    "plt.title('Receiver Operator Characteristic')\n",
    "plt.legend(loc = \"lower right\")\n",
    "plt.tight_layout()\n",
    "plt.show()"
   ]
  },
  {
   "cell_type": "code",
   "execution_count": null,
   "metadata": {},
   "outputs": [],
   "source": []
  },
  {
   "cell_type": "code",
   "execution_count": null,
   "metadata": {},
   "outputs": [],
   "source": []
  }
 ],
 "metadata": {
  "kernelspec": {
   "display_name": "Python 3",
   "language": "python",
   "name": "python3"
  },
  "language_info": {
   "codemirror_mode": {
    "name": "ipython",
    "version": 3
   },
   "file_extension": ".py",
   "mimetype": "text/x-python",
   "name": "python",
   "nbconvert_exporter": "python",
   "pygments_lexer": "ipython3",
   "version": "3.7.6"
  }
 },
 "nbformat": 4,
 "nbformat_minor": 4
}
